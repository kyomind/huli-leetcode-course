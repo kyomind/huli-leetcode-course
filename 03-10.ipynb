{
 "cells": [
  {
   "cell_type": "markdown",
   "metadata": {},
   "source": [
    "### [1003](https://oj.lidemy.com/problem/1003)"
   ]
  },
  {
   "cell_type": "code",
   "execution_count": 1,
   "metadata": {
    "ExecuteTime": {
     "end_time": "2021-03-23T02:20:45.227271Z",
     "start_time": "2021-03-23T02:20:45.222511Z"
    }
   },
   "outputs": [],
   "source": [
    "import sys\n",
    "lines = sys.stdin.read().splitlines()"
   ]
  },
  {
   "cell_type": "code",
   "execution_count": 27,
   "metadata": {
    "ExecuteTime": {
     "end_time": "2021-03-23T02:51:18.866177Z",
     "start_time": "2021-03-23T02:51:18.861584Z"
    }
   },
   "outputs": [],
   "source": [
    "lines = '''2\n",
    "yo\n",
    "man\n",
    "3\n",
    "4\n",
    "2\n",
    "1\n",
    "'''"
   ]
  },
  {
   "cell_type": "code",
   "execution_count": 14,
   "metadata": {
    "ExecuteTime": {
     "end_time": "2021-03-23T02:38:55.902962Z",
     "start_time": "2021-03-23T02:38:55.897372Z"
    }
   },
   "outputs": [
    {
     "data": {
      "text/plain": [
       "['2', 'yo', 'man', '3', '4', '2', '1']"
      ]
     },
     "execution_count": 14,
     "metadata": {},
     "output_type": "execute_result"
    }
   ],
   "source": [
    "arr = lines.splitlines()\n",
    "arr"
   ]
  },
  {
   "cell_type": "code",
   "execution_count": 16,
   "metadata": {
    "ExecuteTime": {
     "end_time": "2021-03-23T02:39:28.859199Z",
     "start_time": "2021-03-23T02:39:28.853858Z"
    }
   },
   "outputs": [],
   "source": [
    "string = ''.join(arr[1:int(arr[0]) + 1])"
   ]
  },
  {
   "cell_type": "code",
   "execution_count": 17,
   "metadata": {
    "ExecuteTime": {
     "end_time": "2021-03-23T02:39:49.989998Z",
     "start_time": "2021-03-23T02:39:49.984625Z"
    }
   },
   "outputs": [
    {
     "data": {
      "text/plain": [
       "'yoman'"
      ]
     },
     "execution_count": 17,
     "metadata": {},
     "output_type": "execute_result"
    }
   ],
   "source": [
    "string"
   ]
  },
  {
   "cell_type": "code",
   "execution_count": 20,
   "metadata": {
    "ExecuteTime": {
     "end_time": "2021-03-23T02:43:09.466093Z",
     "start_time": "2021-03-23T02:43:09.460352Z"
    },
    "scrolled": true
   },
   "outputs": [
    {
     "data": {
      "text/plain": [
       "['yo', 'man']"
      ]
     },
     "execution_count": 20,
     "metadata": {},
     "output_type": "execute_result"
    }
   ],
   "source": [
    "front_part = arr[1:int(arr[0]) + 1]\n",
    "front_part"
   ]
  },
  {
   "cell_type": "code",
   "execution_count": 22,
   "metadata": {
    "ExecuteTime": {
     "end_time": "2021-03-23T02:45:52.926787Z",
     "start_time": "2021-03-23T02:45:52.922735Z"
    }
   },
   "outputs": [],
   "source": [
    "front_part_str = ''.join(front_part)"
   ]
  },
  {
   "cell_type": "code",
   "execution_count": 19,
   "metadata": {
    "ExecuteTime": {
     "end_time": "2021-03-23T02:43:00.352151Z",
     "start_time": "2021-03-23T02:43:00.345285Z"
    }
   },
   "outputs": [
    {
     "data": {
      "text/plain": [
       "['4', '2', '1']"
      ]
     },
     "execution_count": 19,
     "metadata": {},
     "output_type": "execute_result"
    }
   ],
   "source": [
    "back_part = arr[int(arr[0]) + 2:]\n",
    "back_part"
   ]
  },
  {
   "cell_type": "code",
   "execution_count": 24,
   "metadata": {
    "ExecuteTime": {
     "end_time": "2021-03-23T02:46:03.988951Z",
     "start_time": "2021-03-23T02:46:03.981097Z"
    }
   },
   "outputs": [
    {
     "data": {
      "text/plain": [
       "['a', 'o', 'y']"
      ]
     },
     "execution_count": 24,
     "metadata": {},
     "output_type": "execute_result"
    }
   ],
   "source": [
    "str_arr = [front_part_str[int(i)-1] for i in back_part ]\n",
    "str_arr"
   ]
  },
  {
   "cell_type": "markdown",
   "metadata": {},
   "source": [
    "### [1004](https://oj.lidemy.com/problem/1004)"
   ]
  },
  {
   "cell_type": "code",
   "execution_count": 62,
   "metadata": {
    "ExecuteTime": {
     "end_time": "2021-03-23T03:38:07.813755Z",
     "start_time": "2021-03-23T03:38:07.809155Z"
    }
   },
   "outputs": [],
   "source": [
    "key_in = '''3\n",
    "1 2 1\n",
    "1 2 -1\n",
    "2 2 1'''"
   ]
  },
  {
   "cell_type": "code",
   "execution_count": 33,
   "metadata": {
    "ExecuteTime": {
     "end_time": "2021-03-23T03:07:33.606014Z",
     "start_time": "2021-03-23T03:07:33.602820Z"
    }
   },
   "outputs": [],
   "source": [
    "out = '''B\n",
    "A\n",
    "DRAW'''"
   ]
  },
  {
   "cell_type": "code",
   "execution_count": 63,
   "metadata": {
    "ExecuteTime": {
     "end_time": "2021-03-23T03:38:21.374814Z",
     "start_time": "2021-03-23T03:38:21.368789Z"
    }
   },
   "outputs": [
    {
     "data": {
      "text/plain": [
       "['1 2 1', '1 2 -1', '2 2 1']"
      ]
     },
     "execution_count": 63,
     "metadata": {},
     "output_type": "execute_result"
    }
   ],
   "source": [
    "lines = key_in.splitlines()[1:]\n",
    "lines"
   ]
  },
  {
   "cell_type": "code",
   "execution_count": 38,
   "metadata": {
    "ExecuteTime": {
     "end_time": "2021-03-23T03:20:03.468529Z",
     "start_time": "2021-03-23T03:20:03.462297Z"
    }
   },
   "outputs": [
    {
     "data": {
      "text/plain": [
       "False"
      ]
     },
     "execution_count": 38,
     "metadata": {},
     "output_type": "execute_result"
    }
   ],
   "source": [
    "'3333' > '99'"
   ]
  },
  {
   "cell_type": "code",
   "execution_count": 58,
   "metadata": {
    "ExecuteTime": {
     "end_time": "2021-03-23T03:36:34.153170Z",
     "start_time": "2021-03-23T03:36:34.148991Z"
    }
   },
   "outputs": [],
   "source": [
    "lines = ['11111 22 1', '33 3 -1', '33 33 1']"
   ]
  },
  {
   "cell_type": "code",
   "execution_count": 61,
   "metadata": {
    "ExecuteTime": {
     "end_time": "2021-03-23T03:37:01.325681Z",
     "start_time": "2021-03-23T03:37:01.314785Z"
    }
   },
   "outputs": [
    {
     "name": "stdout",
     "output_type": "stream",
     "text": [
      "A\n",
      "B\n",
      "DRAW\n"
     ]
    }
   ],
   "source": [
    "for line in lines:\n",
    "    arr = [int(i) for i in line.split()]\n",
    "    if arr[0] == arr[1]:\n",
    "        print('DRAW')\n",
    "    else:\n",
    "        if arr[0] > arr[1] and arr[2] == 1:\n",
    "            print('A')\n",
    "        elif arr[0] < arr[1] and arr[2] == -1:\n",
    "            print('A')\n",
    "        else:\n",
    "            print('B')"
   ]
  },
  {
   "cell_type": "markdown",
   "metadata": {},
   "source": [
    "# 05"
   ]
  },
  {
   "cell_type": "code",
   "execution_count": 79,
   "metadata": {
    "ExecuteTime": {
     "end_time": "2021-03-23T04:52:01.618809Z",
     "start_time": "2021-03-23T04:52:01.613998Z"
    }
   },
   "outputs": [],
   "source": [
    "key = '''220\n",
    "221\n",
    "222\n",
    "223\n",
    "0'''"
   ]
  },
  {
   "cell_type": "code",
   "execution_count": 66,
   "metadata": {
    "ExecuteTime": {
     "end_time": "2021-03-23T03:42:59.291669Z",
     "start_time": "2021-03-23T03:42:59.288034Z"
    }
   },
   "outputs": [],
   "source": [
    "out = '''284\n",
    "QQ\n",
    "QQ\n",
    "QQ'''"
   ]
  },
  {
   "cell_type": "code",
   "execution_count": 69,
   "metadata": {
    "ExecuteTime": {
     "end_time": "2021-03-23T03:50:22.915177Z",
     "start_time": "2021-03-23T03:50:22.904825Z"
    }
   },
   "outputs": [
    {
     "data": {
      "text/plain": [
       "[220, 221, 222, 223, 0]"
      ]
     },
     "execution_count": 69,
     "metadata": {},
     "output_type": "execute_result"
    }
   ],
   "source": [
    "arr = [int(i) for i in key.splitlines()]\n",
    "arr"
   ]
  },
  {
   "cell_type": "code",
   "execution_count": 71,
   "metadata": {
    "ExecuteTime": {
     "end_time": "2021-03-23T04:42:55.529111Z",
     "start_time": "2021-03-23T04:42:55.524922Z"
    }
   },
   "outputs": [],
   "source": [
    "def get_divisors(num):\n",
    "    divisors = set()\n",
    "    for d in range(1, num):\n",
    "        if num % d == 0:\n",
    "            divisors.add(d)\n",
    "    return divisors"
   ]
  },
  {
   "cell_type": "code",
   "execution_count": 77,
   "metadata": {
    "ExecuteTime": {
     "end_time": "2021-03-23T04:49:19.873793Z",
     "start_time": "2021-03-23T04:49:19.869378Z"
    }
   },
   "outputs": [],
   "source": [
    "def get_divisors(num):\n",
    "    divisors = {d for d in range(1, num) if num % d == 0}\n",
    "    return divisors"
   ]
  },
  {
   "cell_type": "code",
   "execution_count": 75,
   "metadata": {
    "ExecuteTime": {
     "end_time": "2021-03-23T04:49:06.956782Z",
     "start_time": "2021-03-23T04:49:06.951088Z"
    }
   },
   "outputs": [
    {
     "data": {
      "text/plain": [
       "{1, 3, 9, 11, 33}"
      ]
     },
     "execution_count": 75,
     "metadata": {},
     "output_type": "execute_result"
    }
   ],
   "source": [
    "get_divisors(99)"
   ]
  },
  {
   "cell_type": "code",
   "execution_count": 76,
   "metadata": {
    "ExecuteTime": {
     "end_time": "2021-03-23T04:49:09.750647Z",
     "start_time": "2021-03-23T04:49:09.742245Z"
    }
   },
   "outputs": [
    {
     "name": "stdout",
     "output_type": "stream",
     "text": [
      "284\n",
      "QQ\n",
      "QQ\n",
      "QQ\n"
     ]
    }
   ],
   "source": [
    "for i in arr:\n",
    "    if i == 0:\n",
    "        break\n",
    "    else:\n",
    "        another = sum(get_divisors(i))\n",
    "        if i == sum(get_divisors(another)):\n",
    "            print(another)\n",
    "        else:\n",
    "            print('QQ')"
   ]
  },
  {
   "cell_type": "markdown",
   "metadata": {},
   "source": [
    "# 06"
   ]
  },
  {
   "cell_type": "code",
   "execution_count": 88,
   "metadata": {
    "ExecuteTime": {
     "end_time": "2021-03-23T06:05:23.825717Z",
     "start_time": "2021-03-23T06:05:23.822822Z"
    }
   },
   "outputs": [],
   "source": [
    "key = '''8\n",
    "2\n",
    "4\n",
    "5'''"
   ]
  },
  {
   "cell_type": "code",
   "execution_count": 89,
   "metadata": {
    "ExecuteTime": {
     "end_time": "2021-03-23T06:05:24.189040Z",
     "start_time": "2021-03-23T06:05:24.185643Z"
    }
   },
   "outputs": [],
   "source": [
    "out = 4"
   ]
  },
  {
   "cell_type": "code",
   "execution_count": 90,
   "metadata": {
    "ExecuteTime": {
     "end_time": "2021-03-23T06:05:24.599334Z",
     "start_time": "2021-03-23T06:05:24.592339Z"
    }
   },
   "outputs": [
    {
     "data": {
      "text/plain": [
       "['8', '2', '4', '5']"
      ]
     },
     "execution_count": 90,
     "metadata": {},
     "output_type": "execute_result"
    }
   ],
   "source": [
    "lines = key.splitlines()\n",
    "lines"
   ]
  },
  {
   "cell_type": "code",
   "execution_count": 92,
   "metadata": {
    "ExecuteTime": {
     "end_time": "2021-03-23T06:09:17.341505Z",
     "start_time": "2021-03-23T06:09:17.335872Z"
    }
   },
   "outputs": [
    {
     "data": {
      "text/plain": [
       "[8, 2, 4, 5]"
      ]
     },
     "execution_count": 92,
     "metadata": {},
     "output_type": "execute_result"
    }
   ],
   "source": [
    "arr = [int(i) for i in lines]\n",
    "arr"
   ]
  },
  {
   "cell_type": "code",
   "execution_count": 97,
   "metadata": {
    "ExecuteTime": {
     "end_time": "2021-03-23T06:11:34.806796Z",
     "start_time": "2021-03-23T06:11:34.799783Z"
    }
   },
   "outputs": [
    {
     "data": {
      "text/plain": [
       "[1, 2, 3, 6, 7, 8]"
      ]
     },
     "execution_count": 97,
     "metadata": {},
     "output_type": "execute_result"
    }
   ],
   "source": [
    "empty_seats = [i for i in range(1, arr[0] + 1) if i not in arr[2:]]\n",
    "empty_seats"
   ]
  },
  {
   "cell_type": "code",
   "execution_count": 98,
   "metadata": {
    "ExecuteTime": {
     "end_time": "2021-03-23T06:16:34.326420Z",
     "start_time": "2021-03-23T06:16:34.322164Z"
    }
   },
   "outputs": [],
   "source": [
    "def count_match_seats(empty_seats):\n",
    "    match = 0\n",
    "    for seat in empty_seats:\n",
    "        if seat % 2 == 1 and (seat + 1) in empty_seats:\n",
    "            match += 1\n",
    "        if (seat + 2) in empty_seats:\n",
    "            match += 1\n",
    "    return match"
   ]
  },
  {
   "cell_type": "code",
   "execution_count": 99,
   "metadata": {
    "ExecuteTime": {
     "end_time": "2021-03-23T06:16:46.655830Z",
     "start_time": "2021-03-23T06:16:46.649346Z"
    }
   },
   "outputs": [
    {
     "data": {
      "text/plain": [
       "4"
      ]
     },
     "execution_count": 99,
     "metadata": {},
     "output_type": "execute_result"
    }
   ],
   "source": [
    "count_match_seats(empty_seats)"
   ]
  },
  {
   "cell_type": "markdown",
   "metadata": {},
   "source": [
    "# 07"
   ]
  },
  {
   "cell_type": "code",
   "execution_count": 104,
   "metadata": {
    "ExecuteTime": {
     "end_time": "2021-03-23T06:28:33.289434Z",
     "start_time": "2021-03-23T06:28:33.285529Z"
    }
   },
   "outputs": [],
   "source": [
    "key ='''3\n",
    "Nick 8\n",
    "Peter 5\n",
    "Nic 100'''"
   ]
  },
  {
   "cell_type": "code",
   "execution_count": 101,
   "metadata": {
    "ExecuteTime": {
     "end_time": "2021-03-23T06:27:37.046719Z",
     "start_time": "2021-03-23T06:27:37.042658Z"
    }
   },
   "outputs": [],
   "source": [
    "out = 'Nic'"
   ]
  },
  {
   "cell_type": "code",
   "execution_count": 113,
   "metadata": {
    "ExecuteTime": {
     "end_time": "2021-03-23T06:38:54.585620Z",
     "start_time": "2021-03-23T06:38:54.582555Z"
    }
   },
   "outputs": [],
   "source": [
    "key = '''3\n",
    "Nick 90\n",
    "Peter 90\n",
    "Bob 80'''"
   ]
  },
  {
   "cell_type": "code",
   "execution_count": 103,
   "metadata": {
    "ExecuteTime": {
     "end_time": "2021-03-23T06:28:04.027921Z",
     "start_time": "2021-03-23T06:28:04.021188Z"
    }
   },
   "outputs": [],
   "source": [
    "out = '''Nick\n",
    "Peter'''"
   ]
  },
  {
   "cell_type": "code",
   "execution_count": 122,
   "metadata": {
    "ExecuteTime": {
     "end_time": "2021-03-23T06:41:41.100958Z",
     "start_time": "2021-03-23T06:41:41.094060Z"
    }
   },
   "outputs": [
    {
     "data": {
      "text/plain": [
       "['3', 'Nick 90', 'Peter 90', 'Bob 80']"
      ]
     },
     "execution_count": 122,
     "metadata": {},
     "output_type": "execute_result"
    }
   ],
   "source": [
    "lines = key.splitlines()\n",
    "lines"
   ]
  },
  {
   "cell_type": "code",
   "execution_count": 126,
   "metadata": {
    "ExecuteTime": {
     "end_time": "2021-03-23T06:41:53.816762Z",
     "start_time": "2021-03-23T06:41:53.810251Z"
    }
   },
   "outputs": [
    {
     "data": {
      "text/plain": [
       "{'Nick': '90', 'Peter': '90', 'Bob': '80'}"
      ]
     },
     "execution_count": 126,
     "metadata": {},
     "output_type": "execute_result"
    }
   ],
   "source": [
    "personal_scores = dict(i.split() for i in lines[1:])\n",
    "personal_scores"
   ]
  },
  {
   "cell_type": "code",
   "execution_count": 128,
   "metadata": {
    "ExecuteTime": {
     "end_time": "2021-03-23T06:43:23.387464Z",
     "start_time": "2021-03-23T06:43:23.381209Z"
    }
   },
   "outputs": [
    {
     "data": {
      "text/plain": [
       "'90'"
      ]
     },
     "execution_count": 128,
     "metadata": {},
     "output_type": "execute_result"
    }
   ],
   "source": [
    "max_score = max(personal_scores.values(), key=lambda x: int(x))\n",
    "max_score"
   ]
  },
  {
   "cell_type": "code",
   "execution_count": 127,
   "metadata": {
    "ExecuteTime": {
     "end_time": "2021-03-23T06:43:07.935931Z",
     "start_time": "2021-03-23T06:43:07.931277Z"
    }
   },
   "outputs": [
    {
     "name": "stdout",
     "output_type": "stream",
     "text": [
      "Nick\n",
      "Peter\n"
     ]
    }
   ],
   "source": [
    "for name in personal_scores:\n",
    "    if personal_scores[name] == max_score:\n",
    "        print(name)"
   ]
  },
  {
   "cell_type": "markdown",
   "metadata": {},
   "source": [
    "# 08"
   ]
  },
  {
   "cell_type": "code",
   "execution_count": null,
   "metadata": {},
   "outputs": [],
   "source": []
  },
  {
   "cell_type": "code",
   "execution_count": null,
   "metadata": {},
   "outputs": [],
   "source": []
  },
  {
   "cell_type": "code",
   "execution_count": null,
   "metadata": {},
   "outputs": [],
   "source": []
  },
  {
   "cell_type": "code",
   "execution_count": null,
   "metadata": {},
   "outputs": [],
   "source": []
  },
  {
   "cell_type": "code",
   "execution_count": null,
   "metadata": {},
   "outputs": [],
   "source": []
  },
  {
   "cell_type": "code",
   "execution_count": null,
   "metadata": {},
   "outputs": [],
   "source": []
  },
  {
   "cell_type": "code",
   "execution_count": null,
   "metadata": {},
   "outputs": [],
   "source": []
  }
 ],
 "metadata": {
  "kernelspec": {
   "display_name": "Python 3",
   "language": "python",
   "name": "python3"
  },
  "language_info": {
   "codemirror_mode": {
    "name": "ipython",
    "version": 3
   },
   "file_extension": ".py",
   "mimetype": "text/x-python",
   "name": "python",
   "nbconvert_exporter": "python",
   "pygments_lexer": "ipython3",
   "version": "3.7.4"
  }
 },
 "nbformat": 4,
 "nbformat_minor": 2
}
