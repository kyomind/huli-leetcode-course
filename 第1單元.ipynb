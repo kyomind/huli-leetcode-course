{
 "cells": [
  {
   "cell_type": "markdown",
   "metadata": {},
   "source": [
    "###  [1001：A+B](https://oj.lidemy.com/problem/1001)\n",
    "每一個 Online Judge 都會有的基本題目，讓你熟悉 OJ 的使用方式。\n",
    "\n",
    "給定兩個正整數 a 與 b，輸出 a + b 的結果。"
   ]
  },
  {
   "cell_type": "markdown",
   "metadata": {},
   "source": [
    "### 本題心得\n",
    "了解標準輸入後的格式很重要，字串可能需要去空白也是一個麻煩點\n",
    "\n",
    "notebook無法讀取標準輸入，故實際測試是用CLI，寫code則用VSCode\n",
    "\n",
    "notebook主要是方便記述與呈現程式碼"
   ]
  },
  {
   "cell_type": "code",
   "execution_count": null,
   "metadata": {},
   "outputs": [],
   "source": [
    "import sys\n",
    "line = sys.stdin.readline().strip('\\n')\n",
    "# 只會取一行，格式為字串\n",
    "line_list = line.split()\n",
    "print(int(line_list[0]) + int(line_list[1]))"
   ]
  },
  {
   "cell_type": "markdown",
   "metadata": {},
   "source": [
    "### [1002：數字比大小](https://oj.lidemy.com/problem/1002)\n",
    "輸入一共有許多行，每一行都包含兩個正整數 a, b\n",
    "\n",
    "請輸出這兩個之中比較大的那個數字\n",
    "\n",
    "若是碰到 a=b=0 代表輸入結束"
   ]
  },
  {
   "cell_type": "markdown",
   "metadata": {},
   "source": [
    "### 本題心得\n",
    "多行輸入！還好直接給你提示了"
   ]
  },
  {
   "cell_type": "code",
   "execution_count": null,
   "metadata": {},
   "outputs": [],
   "source": [
    "import sys\n",
    "lines = sys.stdin.read().splitlines()\n",
    "# 本題讀入格式，到此非解題核心範圍，使用提示方案\n",
    "# ['22  33', '33 1   ', '34 34', '0 0']\n",
    "\n",
    "for line in lines:\n",
    "    a, b = (int(i) for i in line.split())\n",
    "#   不想用 a = int(a) 這個做法，所以用生成式\n",
    "\n",
    "    if a == 0 and b == 0:\n",
    "        break\n",
    "    print(a) if a > b else print(b)"
   ]
  }
 ],
 "metadata": {
  "kernelspec": {
   "display_name": "Python 3",
   "language": "python",
   "name": "python3"
  },
  "language_info": {
   "codemirror_mode": {
    "name": "ipython",
    "version": 3
   },
   "file_extension": ".py",
   "mimetype": "text/x-python",
   "name": "python",
   "nbconvert_exporter": "python",
   "pygments_lexer": "ipython3",
   "version": "3.7.4"
  }
 },
 "nbformat": 4,
 "nbformat_minor": 4
}
