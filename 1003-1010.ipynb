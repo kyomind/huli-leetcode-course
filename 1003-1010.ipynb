{
 "cells": [
  {
   "cell_type": "markdown",
   "metadata": {},
   "source": [
    "### [1003](https://oj.lidemy.com/problem/1003)"
   ]
  },
  {
   "cell_type": "code",
   "execution_count": 1,
   "metadata": {
    "ExecuteTime": {
     "end_time": "2021-03-23T02:20:45.227271Z",
     "start_time": "2021-03-23T02:20:45.222511Z"
    }
   },
   "outputs": [],
   "source": [
    "import sys\n",
    "lines = sys.stdin.read().splitlines()"
   ]
  },
  {
   "cell_type": "code",
   "execution_count": 27,
   "metadata": {
    "ExecuteTime": {
     "end_time": "2021-03-23T02:51:18.866177Z",
     "start_time": "2021-03-23T02:51:18.861584Z"
    }
   },
   "outputs": [],
   "source": [
    "lines = '''2\n",
    "yo\n",
    "man\n",
    "3\n",
    "4\n",
    "2\n",
    "1\n",
    "'''"
   ]
  },
  {
   "cell_type": "code",
   "execution_count": 14,
   "metadata": {
    "ExecuteTime": {
     "end_time": "2021-03-23T02:38:55.902962Z",
     "start_time": "2021-03-23T02:38:55.897372Z"
    }
   },
   "outputs": [
    {
     "data": {
      "text/plain": [
       "['2', 'yo', 'man', '3', '4', '2', '1']"
      ]
     },
     "execution_count": 14,
     "metadata": {},
     "output_type": "execute_result"
    }
   ],
   "source": [
    "arr = lines.splitlines()\n",
    "arr"
   ]
  },
  {
   "cell_type": "code",
   "execution_count": 16,
   "metadata": {
    "ExecuteTime": {
     "end_time": "2021-03-23T02:39:28.859199Z",
     "start_time": "2021-03-23T02:39:28.853858Z"
    }
   },
   "outputs": [],
   "source": [
    "string = ''.join(arr[1:int(arr[0]) + 1])"
   ]
  },
  {
   "cell_type": "code",
   "execution_count": 17,
   "metadata": {
    "ExecuteTime": {
     "end_time": "2021-03-23T02:39:49.989998Z",
     "start_time": "2021-03-23T02:39:49.984625Z"
    }
   },
   "outputs": [
    {
     "data": {
      "text/plain": [
       "'yoman'"
      ]
     },
     "execution_count": 17,
     "metadata": {},
     "output_type": "execute_result"
    }
   ],
   "source": [
    "string"
   ]
  },
  {
   "cell_type": "code",
   "execution_count": 20,
   "metadata": {
    "ExecuteTime": {
     "end_time": "2021-03-23T02:43:09.466093Z",
     "start_time": "2021-03-23T02:43:09.460352Z"
    },
    "scrolled": true
   },
   "outputs": [
    {
     "data": {
      "text/plain": [
       "['yo', 'man']"
      ]
     },
     "execution_count": 20,
     "metadata": {},
     "output_type": "execute_result"
    }
   ],
   "source": [
    "front_part = arr[1:int(arr[0]) + 1]\n",
    "front_part"
   ]
  },
  {
   "cell_type": "code",
   "execution_count": 22,
   "metadata": {
    "ExecuteTime": {
     "end_time": "2021-03-23T02:45:52.926787Z",
     "start_time": "2021-03-23T02:45:52.922735Z"
    }
   },
   "outputs": [],
   "source": [
    "front_part_str = ''.join(front_part)"
   ]
  },
  {
   "cell_type": "code",
   "execution_count": 19,
   "metadata": {
    "ExecuteTime": {
     "end_time": "2021-03-23T02:43:00.352151Z",
     "start_time": "2021-03-23T02:43:00.345285Z"
    }
   },
   "outputs": [
    {
     "data": {
      "text/plain": [
       "['4', '2', '1']"
      ]
     },
     "execution_count": 19,
     "metadata": {},
     "output_type": "execute_result"
    }
   ],
   "source": [
    "back_part = arr[int(arr[0]) + 2:]\n",
    "back_part"
   ]
  },
  {
   "cell_type": "code",
   "execution_count": 24,
   "metadata": {
    "ExecuteTime": {
     "end_time": "2021-03-23T02:46:03.988951Z",
     "start_time": "2021-03-23T02:46:03.981097Z"
    }
   },
   "outputs": [
    {
     "data": {
      "text/plain": [
       "['a', 'o', 'y']"
      ]
     },
     "execution_count": 24,
     "metadata": {},
     "output_type": "execute_result"
    }
   ],
   "source": [
    "str_arr = [front_part_str[int(i)-1] for i in back_part ]\n",
    "str_arr"
   ]
  },
  {
   "cell_type": "markdown",
   "metadata": {},
   "source": [
    "### [1004](https://oj.lidemy.com/problem/1004)"
   ]
  },
  {
   "cell_type": "code",
   "execution_count": 1,
   "metadata": {
    "ExecuteTime": {
     "end_time": "2021-03-23T02:20:45.227271Z",
     "start_time": "2021-03-23T02:20:45.222511Z"
    }
   },
   "outputs": [],
   "source": [
    "import sys\n",
    "lines = sys.stdin.read().splitlines()"
   ]
  }
 ],
 "metadata": {
  "kernelspec": {
   "display_name": "Python 3",
   "language": "python",
   "name": "python3"
  },
  "language_info": {
   "codemirror_mode": {
    "name": "ipython",
    "version": 3
   },
   "file_extension": ".py",
   "mimetype": "text/x-python",
   "name": "python",
   "nbconvert_exporter": "python",
   "pygments_lexer": "ipython3",
   "version": "3.7.4"
  }
 },
 "nbformat": 4,
 "nbformat_minor": 2
}
